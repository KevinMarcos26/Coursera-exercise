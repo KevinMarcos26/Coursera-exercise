{
  "nbformat": 4,
  "nbformat_minor": 0,
  "metadata": {
    "colab": {
      "provenance": []
    },
    "kernelspec": {
      "name": "python3",
      "display_name": "Python 3"
    },
    "language_info": {
      "name": "python"
    }
  },
  "cells": [
    {
      "cell_type": "markdown",
      "source": [
        "**THE COURSERA EXERCISE**\n",
        "\n",
        "\n",
        "\n",
        "\n",
        "\n",
        "\n"
      ],
      "metadata": {
        "id": "jlez1k8yJ0CK"
      }
    },
    {
      "cell_type": "markdown",
      "source": [
        "Congratulations on finishing all the modules of this course. This week, you'll work on your final assignment, which will be graded by your peers. \n",
        "\n",
        "This course introduced you to multiple data science tools, and in this final project, you will use Jupyterlite Notebook, one of the easiest tools to share publicly. \n",
        "\n",
        "Leveraging Jupyterlite Notebook on Skills Network labs, you will create your Jupyterlite Notebook (in English) and share it via a public GitHub link.\n",
        "\n",
        "Review criteria\n",
        "menos \n",
        "Assignment Topic:\n",
        "\n",
        "You will be provided with an empty Jupyterlite notebook which you will launch in the course, to complete this assignment. You will need to include a combination of markdown and code cells. You will likely need to use the Markdown cheat sheet to help you determine the appropriate syntax for your markdown.\n",
        "\n",
        "Guidelines for the submission:\n",
        "There are a total of 25 points possible for this final project. \n",
        "\n",
        "In this Notebook, Data Science Tools and Ecosystem are analyzed."
      ],
      "metadata": {
        "id": "59dtf68nJ3yK"
      }
    },
    {
      "cell_type": "markdown",
      "source": [
        "**LANGUAGES OF DATA SCIENCE**\n",
        "\n",
        "PYTHON\n",
        "\n",
        "R\n",
        "\n",
        "SQL\n",
        "\n",
        "SCALA\n",
        "\n",
        "JULIA\n"
      ],
      "metadata": {
        "id": "iCqBCaZWKGaZ"
      }
    },
    {
      "cell_type": "markdown",
      "source": [
        "**LIBRARIES USED IN DATA SCIENCE**\n",
        "\n",
        "KERAS\n",
        "\n",
        "PYTORCH\n",
        "\n",
        "TENSORFLOW\n",
        "\n",
        "SCIKIT LEARN"
      ],
      "metadata": {
        "id": "Yft_IDJlKNEQ"
      }
    },
    {
      "cell_type": "markdown",
      "source": [
        "**DATA SCIENCE TOOLS**\n",
        "\n",
        "Rstudio\n",
        "\n",
        "Github\n",
        "\n",
        "Watson studio\n",
        "\n",
        "Jupyter Notebook\n",
        "\n",
        "Apache spark"
      ],
      "metadata": {
        "id": "h5PDFOcFKTZR"
      }
    },
    {
      "cell_type": "markdown",
      "source": [
        "**EXAMPLES OF ARITHMETIC EXPRESSIONS**\n",
        "\n",
        "Adición: El operador más (+) se utiliza para la adición.\n",
        "\n",
        "2 + 3\n",
        "\n",
        "Output: 5\n",
        "\n",
        "Resta: El operador menos (-) se utiliza para la resta.\n",
        "\n",
        "5 - 2\n",
        "\n",
        "Output: 3\n",
        "\n",
        "Multiplicación: El operador asterisco (*) se utiliza para la multiplicación.\n",
        "\n",
        "2 * 3\n",
        "\n",
        "Output: 6\n",
        "\n",
        "División: El operador de barra diagonal (/) se utiliza para la división.\n",
        "\n",
        "6 / 2\n",
        "\n",
        "Output: 3.0\n",
        "\n",
        "División entera: El operador de doble barra diagonal (//) se utiliza para la división entera, que devuelve el cociente sin el resto.\n",
        "\n",
        "7 // 2\n",
        "\n",
        "Output: 3\n",
        "\n",
        "Exponenciación: El operador de doble asterisco (**) se utiliza para la exponenciación.\n",
        "\n",
        "2 ** 3\n",
        "\n",
        "Output: 8\n",
        "\n",
        "Estos son solo algunos ejemplos de las muchas expresiones aritméticas que se pueden usar en Python."
      ],
      "metadata": {
        "id": "u9aBXv0dLxuU"
      }
    },
    {
      "cell_type": "code",
      "source": [
        "# Define the numbers to multiply and add\n",
        "num1 = 5\n",
        "num2 = 7\n",
        "num3 = 2\n",
        "\n",
        "# Multiply num1 and num2, and add num3 to the result\n",
        "result = (num1 * num2) + num3\n",
        "\n",
        "# Print the result\n",
        "print(result)"
      ],
      "metadata": {
        "id": "In_2NTl6LSfk",
        "colab": {
          "base_uri": "https://localhost:8080/"
        },
        "outputId": "253598d1-c381-41b1-93e1-c183432319b6"
      },
      "execution_count": 1,
      "outputs": [
        {
          "output_type": "stream",
          "name": "stdout",
          "text": [
            "37\n"
          ]
        }
      ]
    },
    {
      "cell_type": "code",
      "source": [
        "# Convert minutes to hours\n",
        "minutes = 90\n",
        "hours = minutes / 60\n",
        "print(\"90 minutes is equal to\", hours, \"hours\")"
      ],
      "metadata": {
        "colab": {
          "base_uri": "https://localhost:8080/"
        },
        "id": "fzJMJY7fMAsT",
        "outputId": "e018857b-53f0-4ffc-a976-5ac2498d9606"
      },
      "execution_count": 2,
      "outputs": [
        {
          "output_type": "stream",
          "name": "stdout",
          "text": [
            "90 minutes is equal to 1.5 hours\n"
          ]
        }
      ]
    },
    {
      "cell_type": "code",
      "source": [
        "# Author : Kevin Marcos AgUi Manera"
      ],
      "metadata": {
        "id": "2UgGBuFdMIYY"
      },
      "execution_count": 4,
      "outputs": []
    },
    {
      "cell_type": "markdown",
      "source": [
        "**LIST OF OBJECTIVES :**\n",
        "\n",
        "-List of the most popular languages in Data science\n",
        "\n",
        "-List of libraries used in Data science\n",
        "\n",
        "-List of data Science tools\n",
        "\n",
        "-Evaluate Arithmetic Expressions\n",
        "\n",
        "-List the Objectives\n"
      ],
      "metadata": {
        "id": "t-C-HOT8ZPrl"
      }
    }
  ]
}